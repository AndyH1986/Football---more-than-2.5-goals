{
 "cells": [
  {
   "cell_type": "code",
   "execution_count": 9,
   "metadata": {},
   "outputs": [],
   "source": [
    "from selenium import webdriver\n",
    "import pandas as pd\n",
    "import numpy as np\n",
    "import datetime"
   ]
  },
  {
   "cell_type": "code",
   "execution_count": 2,
   "metadata": {},
   "outputs": [],
   "source": [
    "driver_path = r\"C:\\Users\\ahohm\\Downloads\\chromedriver_win32\\chromedriver.exe\"\n",
    "brave_path = r\"C:\\Program Files\\BraveSoftware\\Brave-Browser\\Application\\brave.exe\"\n",
    "option = webdriver.ChromeOptions()\n",
    "option.binary_location = brave_path\n",
    "browser = webdriver.Chrome(executable_path=driver_path, options=option)\n",
    "browser.get(\"https://sports.tipico.de/de/all/fussball/deutschland/bundesliga\")"
   ]
  },
  {
   "cell_type": "code",
   "execution_count": null,
   "metadata": {},
   "outputs": [],
   "source": [
    "col_names = ['Date', 'Team Home', 'Team Away', 'Tipp 1', 'Tipp X', 'Tipp 2', 'Over', 'Below', 'Handicap 1', 'Handicap X', 'Handicap 2']"
   ]
  },
  {
   "cell_type": "code",
   "execution_count": 30,
   "metadata": {},
   "outputs": [
    {
     "name": "stdout",
     "output_type": "stream",
     "text": [
      "['Heute', 'Morgen, 05.12', 'Sonntag, 06.12', 'Montag, 07.12', 'Freitag, 11.12', 'Samstag, 12.12', 'Sonntag, 13.12']\n"
     ]
    }
   ],
   "source": [
    "dates = []\n",
    "for i in range(3, 10):\n",
    "    try:\n",
    "        date = browser.find_element_by_xpath('/html/body/div[1]/main/main/section/div/div[1]/div/div/div[' + str(i) + ']').text\n",
    "        dates.append(date)\n",
    "    except:\n",
    "        continue\n",
    "        \n",
    "print(dates)"
   ]
  },
  {
   "cell_type": "code",
   "execution_count": 31,
   "metadata": {},
   "outputs": [
    {
     "name": "stdout",
     "output_type": "stream",
     "text": [
      "[datetime.date(2020, 12, 4), datetime.date(2020, 12, 5), datetime.date(2020, 12, 6), datetime.date(2020, 12, 7), datetime.date(2020, 12, 11), datetime.date(2020, 12, 12), datetime.date(2020, 12, 13)]\n"
     ]
    }
   ],
   "source": [
    "today = datetime.date.today()\n",
    "\n",
    "for i in range(len(dates)):\n",
    "    if dates[i] == 'Heute':\n",
    "        dates[i] = today\n",
    "    elif dates[i][-3] == '.':\n",
    "        \n",
    "        day = int(dates[i][-5:-3])\n",
    "        month = int(dates[i][-2:])\n",
    "        \n",
    "        year = today.year\n",
    "        \n",
    "        dates[i] = datetime.date(year, month, day)\n",
    "    else:\n",
    "        continue\n",
    "        \n",
    "        \n",
    "print(dates)"
   ]
  },
  {
   "cell_type": "code",
   "execution_count": 4,
   "metadata": {},
   "outputs": [
    {
     "name": "stdout",
     "output_type": "stream",
     "text": [
      "Hertha BSC vs. Union Berlin 1,85\n",
      "1. FC Köln vs. VfL Wolfsburg 1,75\n",
      "Arminia Bielefeld vs. FSV Mainz 05 1,70\n",
      "Eintracht Frankfurt vs. Borussia Dortmund 1,50\n",
      "SC Freiburg vs. Bor. M'gladbach 1,60\n",
      "Bayern München vs. RB Leipzig 1,30\n",
      "Werder Bremen vs. VfB Stuttgart 1,65\n",
      "FC Schalke 04 vs. Bayer Leverkusen 1,65\n",
      "TSG 1899 Hoffenheim vs. FC Augsburg 1,50\n"
     ]
    }
   ],
   "source": [
    "\n",
    "\n",
    "for i in range(1,10):\n",
    "    team_home = browser.find_element_by_xpath('/html/body/div[1]/main/main/section/div/div[1]/div/div/a[' + str(i) + ']/div[2]/div/div[1]').text\n",
    "    team_away = browser.find_element_by_xpath('/html/body/div[1]/main/main/section/div/div[1]/div/div/a[' + str(i) + ']/div[2]/div/div[2]/span').text\n",
    "    \n",
    "    odds_tipp1 = browser.find_element_by_xpath('/html/body/div[1]/main/main/section/div/div[1]/div/div/a[' + str(i) + ']/div[3]/div/div/button[1]/span')\n",
    "    odds_tippX = browser.find_element_by_xpath('/html/body/div[1]/main/main/section/div/div[1]/div/div/a[' + str(i) + ']/div[3]/div/div/button[2]/span')\n",
    "    odds_tipp2 = browser.find_element_by_xpath('/html/body/div[1]/main/main/section/div/div[1]/div/div/a[' + str(i) + ']/div[3]/div/div/button[3]/span')\n",
    "    \n",
    "    odds_over = browser.find_element_by_xpath('/html/body/div[1]/main/main/section/div/div[1]/div/div/a[' + str(i) + ']/div[4]/div[2]/div/button[1]/span').text\n",
    "    odds_below = browser.find_element_by_xpath('/html/body/div[1]/main/main/section/div/div[1]/div/div/a[' + str(i) + ']/div[4]/div[2]/div/button[2]/span')\n",
    "    \n",
    "    odds_hc1 = browser.find_element_by_xpath('/html/body/div[1]/main/main/section/div/div[1]/div/div/a[' + str(i) + ']/div[5]/div[2]/div/button[1]/span')\n",
    "    odds_hcX = browser.find_element_by_xpath('/html/body/div[1]/main/main/section/div/div[1]/div/div/a[' + str(i) + ']/div[5]/div[2]/div/button[2]/span')\n",
    "    odds_hc2 = browser.find_element_by_xpath('/html/body/div[1]/main/main/section/div/div[1]/div/div/a[' + str(i) + ']/div[5]/div[2]/div/button[3]/span')\n",
    "    \n",
    "    print(team_home, 'vs.' ,team_away, odds)"
   ]
  },
  {
   "cell_type": "code",
   "execution_count": 5,
   "metadata": {},
   "outputs": [
    {
     "name": "stdout",
     "output_type": "stream",
     "text": [
      "Heute\n"
     ]
    }
   ],
   "source": [
    "freitagspiel = '/html/body/div[1]/main/main/section/div/div[1]/div/div/a[1]'\n",
    "print(date)"
   ]
  },
  {
   "cell_type": "code",
   "execution_count": null,
   "metadata": {},
   "outputs": [],
   "source": [
    "'/html/body/div[1]/main/main/section/div/div[1]/div/div/div[3]'\n",
    "\n",
    "'/html/body/div[1]/main/main/section/div/div[1]/div/div/div[5]'"
   ]
  },
  {
   "cell_type": "code",
   "execution_count": 19,
   "metadata": {},
   "outputs": [
    {
     "data": {
      "text/plain": [
       "'.'"
      ]
     },
     "execution_count": 19,
     "metadata": {},
     "output_type": "execute_result"
    }
   ],
   "source": [
    "d = 'Morgen, 05.12'\n",
    "\n",
    "d[-3]"
   ]
  },
  {
   "cell_type": "code",
   "execution_count": null,
   "metadata": {},
   "outputs": [],
   "source": [
    "dct_teams = {'Bayern München': 'Bayern München', \n",
    "             'Hertha BSC': 'Hertha BSC', \n",
    "             'Union Berlin': '1. FC Union Berlin',\n",
    "             '1. FC Köln': '1. FC Köln', \n",
    "             'VfL Wolfsburg': 'VfL Wolfsburg',\n",
    "             'Arminia Bielefeld': 'Arminia Bielefeld',\n",
    "             'FSV Mainz 05': '1. FSV Mainz 05',\n",
    "             'Eintracht Frankfurt': 'Eintracht Frankfurt', \n",
    "             \"Bor. M'gladbach\": 'Bor. Mönchengladbach',\n",
    "             'RB Leipzig': 'RB Leipzig', \n",
    "             'Werder Bremen': 'Werder Bremen', \n",
    "             'VfB Stuttgart': 'VfB Stuttgart',\n",
    "             'FC Schalke 04': 'FC Schalke 04', \n",
    "             'Bayer Leverkusen': 'Bayer Leverkusen',\n",
    "             'TSG 1899 Hoffenheim': '1899 Hoffenheim',\n",
    "             'FC Augsburg': 'FC Augsburg',\n",
    "             'Borussia Dortmund': 'Borussia Dortmund', \n",
    "             'SC Freiburg': 'SC Freiburg'}"
   ]
  }
 ],
 "metadata": {
  "kernelspec": {
   "display_name": "Python 3",
   "language": "python",
   "name": "python3"
  },
  "language_info": {
   "codemirror_mode": {
    "name": "ipython",
    "version": 3
   },
   "file_extension": ".py",
   "mimetype": "text/x-python",
   "name": "python",
   "nbconvert_exporter": "python",
   "pygments_lexer": "ipython3",
   "version": "3.8.3"
  }
 },
 "nbformat": 4,
 "nbformat_minor": 2
}
