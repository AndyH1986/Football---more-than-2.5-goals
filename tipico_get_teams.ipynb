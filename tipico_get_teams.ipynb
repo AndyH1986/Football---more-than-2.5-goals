{
 "cells": [
  {
   "cell_type": "markdown",
   "metadata": {},
   "source": [
    "## Find all the teams"
   ]
  },
  {
   "cell_type": "markdown",
   "metadata": {},
   "source": [
    "The aim is to find all the teams just to get the team names. The names then must have the same names as in the Weltfussfall platform. Otherwise we need to change the tipico-team-names so that they match with the names given by Weltfussball"
   ]
  },
  {
   "cell_type": "code",
   "execution_count": 5,
   "metadata": {},
   "outputs": [],
   "source": [
    "from selenium import webdriver\n",
    "import pandas as pd\n",
    "import numpy as np\n",
    "import datetime\n",
    "import time"
   ]
  },
  {
   "cell_type": "code",
   "execution_count": 2,
   "metadata": {},
   "outputs": [],
   "source": [
    "driver_path = r\"C:\\Users\\ahohm\\Downloads\\chromedriver_win32\\chromedriver.exe\"\n",
    "brave_path = r\"C:\\Program Files\\BraveSoftware\\Brave-Browser\\Application\\brave.exe\"\n",
    "option = webdriver.ChromeOptions()\n",
    "option.binary_location = brave_path\n",
    "browser = webdriver.Chrome(executable_path=driver_path, options=option)"
   ]
  },
  {
   "cell_type": "markdown",
   "metadata": {},
   "source": [
    "get all the links form tipico"
   ]
  },
  {
   "cell_type": "code",
   "execution_count": 3,
   "metadata": {},
   "outputs": [],
   "source": [
    "## links\n",
    "germany = 'https://sports.tipico.de/de/all/fussball/deutschland/bundesliga'\n",
    "england = 'https://sports.tipico.de/de/all/fussball/england/premier-league'\n",
    "spain = 'https://sports.tipico.de/de/all/fussball/spanien/la-liga'\n",
    "italy = 'https://sports.tipico.de/de/all/fussball/italien/serie-a'\n",
    "france = 'https://sports.tipico.de/de/all/fussball/frankreich/ligue-1'\n",
    "austria = 'https://sports.tipico.de/de/all/fussball/oesterreich/tipico-bundesliga'\n",
    "netherlands = 'https://sports.tipico.de/de/all/fussball/niederlande/eredivisie'\n",
    "belgium = 'https://sports.tipico.de/de/all/fussball/belgien/first-division-a'\n",
    "portugal = 'https://sports.tipico.de/de/all/fussball/portugal/primeira-liga'\n",
    "\n",
    "lst_leagues = [germany, england, spain, italy, france, austria, netherlands, belgium, portugal]"
   ]
  },
  {
   "cell_type": "markdown",
   "metadata": {},
   "source": [
    "get all the teams"
   ]
  },
  {
   "cell_type": "code",
   "execution_count": 13,
   "metadata": {},
   "outputs": [],
   "source": [
    "all_teams = []\n",
    "for league in lst_leagues:\n",
    "    try:\n",
    "        browser.get(league)\n",
    "        time.sleep(3)\n",
    "        for i in range(1,20):\n",
    "            try:\n",
    "                team_home = browser.find_element_by_xpath('/html/body/div[1]/main/main/section/div/div[1]/div/div/a[' + str(i) + ']/div[2]/div/div[1]').text\n",
    "                team_away = browser.find_element_by_xpath('/html/body/div[1]/main/main/section/div/div[1]/div/div/a[' + str(i) + ']/div[2]/div/div[2]/span').text\n",
    "            except:\n",
    "                continue\n",
    "    \n",
    "            all_teams.append(team_home)\n",
    "            all_teams.append(team_away)\n",
    "    except: print('website could not be found or loaded')"
   ]
  },
  {
   "cell_type": "code",
   "execution_count": 16,
   "metadata": {},
   "outputs": [],
   "source": [
    "all_teams = list(set(all_teams))"
   ]
  },
  {
   "cell_type": "code",
   "execution_count": 17,
   "metadata": {},
   "outputs": [
    {
     "name": "stdout",
     "output_type": "stream",
     "text": [
      "Parma Calcio\n",
      "FSV Mainz 05\n",
      "Tottenham Hotspur\n",
      "CA Osasuna\n",
      "Rio Ave FC\n",
      "Bayern München\n",
      "Southampton FC\n",
      "UD Levante\n",
      "KAS Eupen\n",
      "SC Heerenveen\n",
      "Manchester United\n",
      "KV Kortrijk\n",
      "Sporting Charleroi\n",
      "AC Mailand\n",
      "SD Huesca\n",
      "FC Pacos Ferreira\n",
      "Spezia Calcio\n",
      "RC Celta de Vigo\n",
      "Athletic Bilbao\n",
      "Benevento Calcio\n",
      "FC Sevilla\n",
      "FC Barcelona\n",
      "US Sassuolo\n",
      "Juventus Turin\n",
      "CF Valencia\n",
      "Cagliari Calcio\n",
      "Cadiz\n",
      "Wolverhampton\n",
      "Alaves\n",
      "Stade Brest 29\n",
      "AS Monaco\n",
      "Stade de Reims\n",
      "SC Freiburg\n",
      "FC Turin\n",
      "SD Eibar\n",
      "PSV Eindhoven\n",
      "LASK Linz\n",
      "FC Arsenal\n",
      "Inter Mailand\n",
      "Leicester City\n",
      "Real Valladolid\n",
      "Hertha BSC\n",
      "RB Leipzig\n",
      "Bordeaux\n",
      "Granada CF\n",
      "Sheffield Utd\n",
      "West Ham Utd\n",
      "Angers SCO\n",
      "Sporting Braga\n",
      "Olympique Lyon\n",
      "Bayer Leverkusen\n",
      "CF Villarreal\n",
      "CS Maritimo\n",
      "FC Burnley\n",
      "AS Rom\n",
      "FC Crotone\n",
      "AS Saint Etienne\n",
      "Leeds United\n",
      "FC Liverpool\n",
      "FC Chelsea\n",
      "Aston Villa\n",
      "Everton FC\n",
      "West Bromwich\n",
      "Olympique Marseille\n",
      "Brighton & Hove\n",
      "Crystal Palace\n",
      "Paris SG\n",
      "FC Nantes\n",
      "Benfica Lissabon\n",
      "Union Berlin\n",
      "Werder Bremen\n",
      "KV Mechelen\n",
      "Atletico Madrid\n",
      "Borussia Dortmund\n",
      "Belenenses Lissabon\n",
      "FC Fulham\n",
      "Dijon FCO\n",
      "VfL Wolfsburg\n",
      "Bor. M'gladbach\n",
      "CF Elche\n",
      "FC Augsburg\n",
      "AC Florenz\n",
      "TSG 1899 Hoffenheim\n",
      "CF Getafe\n",
      "K Beerschot VA\n",
      "Sporting Farense\n",
      "KV Oostende\n",
      "Standard Lüttich\n",
      "Genua FC\n",
      "Lazio Rom\n",
      "Arminia Bielefeld\n",
      "FC Metz\n",
      "Newcastle United\n",
      "SSC Neapel\n",
      "Real Sociedad\n",
      "FC Schalke 04\n",
      "Real Betis\n",
      "Real Madrid\n",
      "Bologna FC\n",
      "KAA Gent\n",
      "UC Sampdoria\n",
      "Manchester City\n",
      "OGC Nizza\n",
      "Udinese Calcio\n",
      "SV Ried\n",
      "VfB Stuttgart\n",
      "FC Lorient\n",
      "Boavista FC\n",
      "Racing Straßburg\n",
      "1. FC Köln\n",
      "Eintracht Frankfurt\n",
      "Hellas Verona\n",
      "Atalanta Bergamo\n"
     ]
    }
   ],
   "source": [
    "for team in all_teams:\n",
    "    print(team)"
   ]
  }
 ],
 "metadata": {
  "kernelspec": {
   "display_name": "Python 3",
   "language": "python",
   "name": "python3"
  },
  "language_info": {
   "codemirror_mode": {
    "name": "ipython",
    "version": 3
   },
   "file_extension": ".py",
   "mimetype": "text/x-python",
   "name": "python",
   "nbconvert_exporter": "python",
   "pygments_lexer": "ipython3",
   "version": "3.8.3"
  }
 },
 "nbformat": 4,
 "nbformat_minor": 2
}
